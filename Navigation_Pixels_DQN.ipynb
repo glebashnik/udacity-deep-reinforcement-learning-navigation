{
 "cells": [
  {
   "cell_type": "code",
   "execution_count": 1,
   "metadata": {},
   "outputs": [],
   "source": [
    "%load_ext autoreload\n",
    "%autoreload 2\n",
    "%matplotlib inline"
   ]
  },
  {
   "cell_type": "code",
   "execution_count": 2,
   "metadata": {},
   "outputs": [],
   "source": [
    "import random\n",
    "from collections import namedtuple, deque\n",
    "\n",
    "from unityagents import UnityEnvironment\n",
    "import numpy as np\n",
    "\n",
    "import torch\n",
    "import torch.nn.functional as F\n",
    "import torch.optim as optim\n",
    "\n",
    "from replay_memory import ReplayMemory\n",
    "from experience import Experience, get_fields_from_experiences\n",
    "from utils import plot_scores"
   ]
  },
  {
   "cell_type": "code",
   "execution_count": 3,
   "metadata": {},
   "outputs": [
    {
     "name": "stdout",
     "output_type": "stream",
     "text": [
      "Device: cuda:0\n",
      "Seed: 5\n"
     ]
    }
   ],
   "source": [
    "device = torch.device(\"cuda:0\" if torch.cuda.is_available() else \"cpu\")\n",
    "print('Device:', device)\n",
    "\n",
    "seed = 5\n",
    "random.seed(seed)\n",
    "torch.manual_seed(seed)\n",
    "print('Seed:', seed)"
   ]
  },
  {
   "cell_type": "code",
   "execution_count": 4,
   "metadata": {},
   "outputs": [
    {
     "name": "stderr",
     "output_type": "stream",
     "text": [
      "INFO:unityagents:\n",
      "'Academy' started successfully!\n",
      "Unity Academy name: Academy\n",
      "        Number of Brains: 1\n",
      "        Number of External Brains : 1\n",
      "        Lesson number : 0\n",
      "        Reset Parameters :\n",
      "\t\t\n",
      "Unity brain name: BananaBrain\n",
      "        Number of Visual Observations (per agent): 1\n",
      "        Vector Observation space type: continuous\n",
      "        Vector Observation space size (per agent): 0\n",
      "        Number of stacked Vector Observation: 1\n",
      "        Vector Action space type: discrete\n",
      "        Vector Action space size (per agent): 4\n",
      "        Vector Action descriptions: , , , \n"
     ]
    },
    {
     "name": "stdout",
     "output_type": "stream",
     "text": [
      "Brain name: BananaBrain\n",
      "Number of agents: 1\n",
      "Number of actions: 4\n",
      "State example:\n",
      "[[[[0.83921569 0.7254902  0.59215686]\n",
      "   [0.83921569 0.7254902  0.59215686]\n",
      "   [0.83921569 0.7254902  0.59215686]\n",
      "   ...\n",
      "   [0.83921569 0.7254902  0.59215686]\n",
      "   [0.83921569 0.7254902  0.59215686]\n",
      "   [0.83921569 0.7254902  0.59215686]]\n",
      "\n",
      "  [[0.83921569 0.7254902  0.59215686]\n",
      "   [0.83921569 0.7254902  0.59215686]\n",
      "   [0.83921569 0.7254902  0.59215686]\n",
      "   ...\n",
      "   [0.83921569 0.7254902  0.59215686]\n",
      "   [0.83921569 0.7254902  0.59215686]\n",
      "   [0.83921569 0.7254902  0.59215686]]\n",
      "\n",
      "  [[0.83921569 0.7254902  0.59215686]\n",
      "   [0.83921569 0.7254902  0.59215686]\n",
      "   [0.83921569 0.7254902  0.59215686]\n",
      "   ...\n",
      "   [0.83921569 0.7254902  0.59215686]\n",
      "   [0.83921569 0.7254902  0.59215686]\n",
      "   [0.83921569 0.7254902  0.59215686]]\n",
      "\n",
      "  ...\n",
      "\n",
      "  [[0.39215686 0.34117647 0.2745098 ]\n",
      "   [0.39215686 0.34117647 0.2745098 ]\n",
      "   [0.39215686 0.34117647 0.2745098 ]\n",
      "   ...\n",
      "   [0.21568627 0.17647059 0.5254902 ]\n",
      "   [0.17254902 0.15294118 0.38039216]\n",
      "   [0.3254902  0.31372549 0.41960784]]\n",
      "\n",
      "  [[0.39215686 0.34117647 0.2745098 ]\n",
      "   [0.39215686 0.34117647 0.2745098 ]\n",
      "   [0.39215686 0.34117647 0.2745098 ]\n",
      "   ...\n",
      "   [0.16078431 0.12156863 0.45882353]\n",
      "   [0.15294118 0.1254902  0.32941176]\n",
      "   [0.33333333 0.32156863 0.40392157]]\n",
      "\n",
      "  [[0.38823529 0.3372549  0.27058824]\n",
      "   [0.38823529 0.3372549  0.27058824]\n",
      "   [0.38823529 0.3372549  0.27058824]\n",
      "   ...\n",
      "   [0.16862745 0.1254902  0.43529412]\n",
      "   [0.16078431 0.12941176 0.31372549]\n",
      "   [0.34509804 0.32941176 0.38431373]]]]\n",
      "State size: (1, 84, 84, 3)\n"
     ]
    }
   ],
   "source": [
    "env = UnityEnvironment(file_name='VisualBanana_Linux/Banana.x86_64')\n",
    "\n",
    "brain_name = env.brain_names[0]\n",
    "brain = env.brains[brain_name]\n",
    "print('Brain name:', brain_name)\n",
    "\n",
    "env_info = env.reset(train_mode=True)[brain_name]\n",
    "print('Number of agents:', len(env_info.agents))\n",
    "\n",
    "action_size = brain.vector_action_space_size\n",
    "print('Number of actions:', action_size)\n",
    "\n",
    "state = env_info.visual_observations[0]\n",
    "print('State example:')\n",
    "print(state)\n",
    "\n",
    "state_size = state.shape\n",
    "print('State size:', state.shape)"
   ]
  },
  {
   "cell_type": "code",
   "execution_count": 5,
   "metadata": {},
   "outputs": [
    {
     "name": "stdout",
     "output_type": "stream",
     "text": [
      "Original shape: (1, 84, 84, 3)\n",
      "Processed shape: (1, 1, 44, 84)\n"
     ]
    },
    {
     "data": {
      "image/png": "[encoded data removed]",
      "text/plain": [
       "<Figure size 432x288 with 2 Axes>"
      ]
     },
     "metadata": {
      "needs_background": "light"
     },
     "output_type": "display_data"
    }
   ],
   "source": [
    "import matplotlib.pyplot as plt\n",
    "\n",
    "def preprocess(state):\n",
    "    R = state[:, 40:, :, 0]\n",
    "    G = state[:, 40:, :, 1]\n",
    "    B = state[:, 40:, :, 2]\n",
    "    L = 0.2126 * R + 0.7152 * G + 0.0722 * B\n",
    "    return np.expand_dims(L, 0)\n",
    "    \n",
    "def demo_preprocess(state):\n",
    "    print('Original shape:', state.shape)\n",
    "    \n",
    "    processed = preprocess(state)\n",
    "    print('Processed shape:', processed.shape)\n",
    "    \n",
    "    fig, axs = plt.subplots(ncols=2, nrows=1)\n",
    "    axs[0].imshow(np.squeeze(state))\n",
    "    axs[1].imshow(np.squeeze(processed), cmap='gray')\n",
    "    \n",
    "\n",
    "demo_preprocess(state)"
   ]
  },
  {
   "cell_type": "code",
   "execution_count": 6,
   "metadata": {},
   "outputs": [
    {
     "name": "stdout",
     "output_type": "stream",
     "text": [
      "(1, 3, 44, 84)\n"
     ]
    }
   ],
   "source": [
    "st = np.concatenate([preprocess(state), preprocess(state), preprocess(state)], axis=1)\n",
    "print(st.shape)"
   ]
  },
  {
   "cell_type": "code",
   "execution_count": 7,
   "metadata": {},
   "outputs": [
    {
     "data": {
      "text/plain": [
       "(1, 3, 44, 84)"
      ]
     },
     "execution_count": 7,
     "metadata": {},
     "output_type": "execute_result"
    }
   ],
   "source": [
    "st = preprocess(state)\n",
    "np.repeat(st, 3, axis=1).shape"
   ]
  },
  {
   "cell_type": "code",
   "execution_count": 8,
   "metadata": {},
   "outputs": [],
   "source": [
    "import torch\n",
    "import torch.nn as nn\n",
    "import torch.nn.functional as F\n",
    "\n",
    "class PixelQNet(nn.Module):\n",
    "    def __init__(self, state_size, action_size):\n",
    "        super(PixelQNet, self).__init__()\n",
    "    \n",
    "        self.conv1 = torch.nn.Conv2d(4, 32, 8, 4)\n",
    "        self.conv2 = torch.nn.Conv2d(32, 64, 4, 2)\n",
    "        self.conv3 = torch.nn.Conv2d(64, 64, 3, 1)\n",
    "        self.fc1 = nn.Linear(64 * 2 * 7, 512)\n",
    "        self.fc2 = nn.Linear(512, action_size)\n",
    "\n",
    "    def forward(self, state):\n",
    "        x = state\n",
    "        \n",
    "        x = F.relu(self.conv1(x))\n",
    "        x = F.relu(self.conv2(x))\n",
    "        x = F.relu(self.conv3(x))\n",
    "        \n",
    "        x = x.view(-1, 64 * 2 * 7)\n",
    "        x = F.relu(self.fc1(x))\n",
    "      \n",
    "        return self.fc2(x)"
   ]
  },
  {
   "cell_type": "code",
   "execution_count": null,
   "metadata": {},
   "outputs": [],
   "source": [
    "class PixelAgent:\n",
    "    def __init__(self, \n",
    "                 state_size, \n",
    "                 action_size,\n",
    "                 discount_factor,\n",
    "                 memory_size,\n",
    "                 batch_size, \n",
    "                 replay_start,\n",
    "                 learn_freq,                 \n",
    "                 learn_rate,\n",
    "                 target_update_freq,\n",
    "                 soft_update_factor\n",
    "                ):\n",
    "        self.state_size = state_size\n",
    "        self.action_size = action_size\n",
    "        self.discount_factor = discount_factor\n",
    "        \n",
    "        self.memory_size = memory_size\n",
    "        self.batch_size = batch_size\n",
    "        self.replay_start = replay_start\n",
    "  \n",
    "        self.learn_freq = learn_freq\n",
    "        self.learn_rate = learn_rate\n",
    "        \n",
    "        self.target_update_freq = target_update_freq\n",
    "        self.soft_update_factor = soft_update_factor\n",
    "      \n",
    "        self.local_model = PixelQNet(state_size, action_size).to(device)\n",
    "        self.target_model = PixelQNet(state_size, action_size).to(device)\n",
    "        self.optimizer = optim.RMSprop(self.local_model.parameters(), lr=learn_rate)\n",
    "        self.memory = ReplayMemory(memory_size, batch_size)\n",
    "        \n",
    "        self.learn_step = 0\n",
    "        self.target_update_step = 0 \n",
    "    \n",
    "    def perceive(self, state, action, reward, next_state, done):\n",
    "        experience = Experience(state, action, reward, next_state, done)\n",
    "        self.memory.add(experience)\n",
    "        \n",
    "        self.learn_step = (self.learn_step + 1) % self.learn_freq\n",
    "        \n",
    "        if self.learn_step == 0 and len(self.memory) >= self.replay_start:\n",
    "            self.learn()\n",
    "\n",
    "    def act(self, state, epsilon):\n",
    "        state = torch.from_numpy(state).float().to(device)\n",
    "    \n",
    "        self.local_model.eval()\n",
    "        \n",
    "        with torch.no_grad():\n",
    "            action_values = self.local_model(state)\n",
    "        \n",
    "        self.local_model.train()\n",
    "\n",
    "        # Epsilon-greedy action selection\n",
    "        if random.random() > epsilon:\n",
    "            return np.argmax(action_values.cpu().data.numpy())\n",
    "        else:\n",
    "            return random.choice(np.arange(self.action_size))\n",
    "\n",
    "    def learn(self):\n",
    "        experiences = self.memory.sample()\n",
    "        states, actions, rewards, next_states, dones = get_fields_from_experiences(experiences, device)\n",
    "        \n",
    "        # Get max predicted Q values (for next states) from target model\n",
    "        Q_targets_next = self.target_model(next_states).detach().max(1)[0].unsqueeze(1)\n",
    "        # Compute Q targets for current states \n",
    "        Q_targets = rewards + self.discount_factor * Q_targets_next * (1 - dones)\n",
    "        # Get expected Q values from local model\n",
    "        Q_expected = self.local_model(states).gather(1, actions)\n",
    "        # Compute loss\n",
    "        loss = F.mse_loss(Q_expected, Q_targets)\n",
    "        # Minimize the loss\n",
    "        self.optimizer.zero_grad()\n",
    "        loss.backward()\n",
    "        self.optimizer.step()\n",
    "        \n",
    "        # Soft update of target model: θ_target = τ*θ_local + (1 - τ)*θ_target\n",
    "        self.target_update_step = (self.target_update_step + 1) % self.target_update_freq\n",
    "        \n",
    "        if self.target_update_step == 0:            \n",
    "            for target_param, local_param in zip(self.target_model.parameters(), self.local_model.parameters()):\n",
    "                target_param.data.copy_(\n",
    "                    self.soft_update_factor * local_param.data + (1.0 - self.soft_update_factor) * target_param.data)"
   ]
  },
  {
   "cell_type": "code",
   "execution_count": null,
   "metadata": {},
   "outputs": [
    {
     "name": "stdout",
     "output_type": "stream",
     "text": [
      "Episode 100\tAverage Score: 0.04\n",
      "Episode 200\tAverage Score: 0.28\n",
      "Episode 300\tAverage Score: -0.08\n",
      "Episode 400\tAverage Score: 0.153\n",
      "Episode 500\tAverage Score: 0.15\n",
      "Episode 600\tAverage Score: 0.04\n",
      "Episode 700\tAverage Score: -0.02\n",
      "Episode 800\tAverage Score: -0.10\n",
      "Episode 900\tAverage Score: -0.25\n",
      "Episode 940\tAverage Score: -0.05"
     ]
    }
   ],
   "source": [
    "def train(\n",
    "    agent,\n",
    "    max_episodes, # (int): maximum number of training episodes\n",
    "    max_steps, # (int): maximum number of steps per episode\n",
    "    goal_score, # (int): average score to achive over 100 episodes \n",
    "    epsilon_start, # (float): start value of epsilon, for epsilon-greedy action selection\n",
    "    epsilon_end, # (float): minimum value of epsilon\n",
    "    epsilon_decay, # (float): multiplicative factor (per episode) for decreasing epsilon,\n",
    "    action_repeat,\n",
    "    model_path\n",
    "):\n",
    "    scores = [] # list containing scores from each episode\n",
    "    scores_window = deque(maxlen=100) # last 100 scores\n",
    "    epsilon = epsilon_start # initialize epsilon\n",
    "    \n",
    "    for episode in range(1, max_episodes + 1):\n",
    "        env_info = env.reset(train_mode=True)[brain_name] # reset the environment\n",
    "        state = np.repeat(preprocess(env_info.visual_observations[0]), action_repeat, axis=1) # initial state\n",
    "        score = 0 # initialize the score\n",
    "        \n",
    "        for step in range(max_steps):\n",
    "            if step % action_repeat == 0:\n",
    "                action = agent.act(state, epsilon)\n",
    "                \n",
    "                if step > 0:\n",
    "                    next_state = np.concatenate(observations, axis=1)\n",
    "                    agent.perceive(state, action, reward, next_state, done)\n",
    "                    \n",
    "                    state = next_state\n",
    "                    score += reward\n",
    "                    \n",
    "                observations = []          \n",
    "                reward = 0\n",
    "                done = False\n",
    "                 \n",
    "            env_info = env.step(action)[brain_name] # send the action to the environment\n",
    "            observations.append(preprocess(env_info.visual_observations[0])) # get the next state\n",
    "            reward += env_info.rewards[0] # get the reward\n",
    "            done = done or env_info.local_done[0] # see if episode has finished\n",
    "            \n",
    "            if done:\n",
    "                break\n",
    "        \n",
    "        scores_window.append(score) # save most recent score\n",
    "        scores.append(score) # save most recent score\n",
    "        epsilon = max(epsilon_end, epsilon_decay * epsilon) # decrease epsilon\n",
    "        \n",
    "        print('\\rEpisode {}\\tAverage Score: {:.2f}'.format(episode, np.mean(scores_window)), end='')\n",
    "        \n",
    "        if episode % 100 == 0:\n",
    "            print('\\rEpisode {}\\tAverage Score: {:.2f}'.format(episode, np.mean(scores_window)))\n",
    "        \n",
    "        if np.mean(scores_window) >= goal_score:\n",
    "            print('\\nEnvironment solved in {:d} episodes!\\tAverage Score: {:.2f}'.format(episode - 100, np.mean(scores_window)))\n",
    "            torch.save(agent.local_model.state_dict(), model_path)\n",
    "            break\n",
    "    \n",
    "    return scores\n",
    "\n",
    "agent = PixelAgent(\n",
    "    state_size=state_size, \n",
    "    action_size=action_size,\n",
    "    memory_size=int(1e5),\n",
    "    batch_size=64,\n",
    "    discount_factor=0.99,\n",
    "    replay_start=1000,\n",
    "    learn_freq=4,\n",
    "    learn_rate=5e-4,\n",
    "    target_update_freq=500,\n",
    "    soft_update_factor=1e-3\n",
    ")\n",
    "\n",
    "scores = train(\n",
    "    agent=agent,  \n",
    "    max_episodes=2000, \n",
    "    max_steps=2000, \n",
    "    goal_score=13,\n",
    "    epsilon_start=1.0, \n",
    "    epsilon_end=0.01,\n",
    "    epsilon_decay=0.995,\n",
    "    action_repeat=4,\n",
    "    model_path='models/pixel_qnet.pth'\n",
    ")\n",
    "\n",
    "plot_scores(scores)"
   ]
  },
  {
   "cell_type": "code",
   "execution_count": 11,
   "metadata": {},
   "outputs": [],
   "source": [
    "# def test(agent, epsilon=0.05):\n",
    "#     env_info = env.reset(train_mode=False)[brain_name] # reset the environment\n",
    "#     state = preprocess(env_info.visual_observations[0]) # get the current state\n",
    "#     score = 0 # initialize the score\n",
    "\n",
    "#     while True:\n",
    "#         action = agent.act(state, epsilon) # select an action\n",
    "#         env_info = env.step(action)[brain_name] # send the action to the environment\n",
    "#         next_state = preprocess(env_info.visual_observations[0]) # get the next state\n",
    "#         reward = env_info.rewards[0] # get the reward\n",
    "#         done = env_info.local_done[0] # see if episode has finished\n",
    "#         score += reward # update the score\n",
    "#         state = next_state # roll over the state to next time step\n",
    "        \n",
    "#         if done: # exit loop if episode finished\n",
    "#             break\n",
    "    \n",
    "#     print(\"Score: {}\".format(score))\n",
    "    \n",
    "# test(agent)"
   ]
  },
  {
   "cell_type": "code",
   "execution_count": 12,
   "metadata": {},
   "outputs": [],
   "source": [
    "#env.close()"
   ]
  },
  {
   "cell_type": "code",
   "execution_count": null,
   "metadata": {},
   "outputs": [],
   "source": []
  }
 ],
 "metadata": {
  "kernelspec": {
   "display_name": "drlnd",
   "language": "python",
   "name": "drlnd"
  },
  "language_info": {
   "codemirror_mode": {
    "name": "ipython",
    "version": 3
   },
   "file_extension": ".py",
   "mimetype": "text/x-python",
   "name": "python",
   "nbconvert_exporter": "python",
   "pygments_lexer": "ipython3",
   "version": "3.6.6"
  }
 },
 "nbformat": 4,
 "nbformat_minor": 2
}
